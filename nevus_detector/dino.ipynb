{
 "cells": [
  {
   "cell_type": "code",
   "execution_count": 108,
   "id": "e9f4d065-3d74-4949-940c-1ff4c5a8377e",
   "metadata": {
    "tags": []
   },
   "outputs": [],
   "source": [
    "import json\n",
    "import numpy as np\n",
    "from sklearn import svm\n",
    "from sklearn.ensemble import RandomForestClassifier\n",
    "from sklearn.model_selection import cross_val_score\n",
    "from sklearn.metrics import roc_auc_score, make_scorer\n",
    "\n",
    "rf_type = {'dia5':-6, 'intref':-5, 'orange':-4, 'va':-3, 'thick2':-2, 'srf':-1}\n",
    "rf = 'dia5'"
   ]
  },
  {
   "cell_type": "code",
   "execution_count": 109,
   "id": "e6bb3800-f749-4ec1-88c6-6ed2ab017cb0",
   "metadata": {
    "tags": []
   },
   "outputs": [],
   "source": [
    "# Load the JSON file\n",
    "with open('C:/Users/m294666/Documents/dino_embeddings.json', 'r') as f:\n",
    "    data = json.load(f)"
   ]
  },
  {
   "cell_type": "code",
   "execution_count": 110,
   "id": "0be524da-51fe-4e56-93a4-ed56dd6a3f77",
   "metadata": {
    "tags": []
   },
   "outputs": [
    {
     "data": {
      "text/plain": [
       "'8264973_R_1_0_0_0_0_0_0.jpg'"
      ]
     },
     "execution_count": 110,
     "metadata": {},
     "output_type": "execute_result"
    }
   ],
   "source": [
    "data['image_name'][0]"
   ]
  },
  {
   "cell_type": "code",
   "execution_count": 111,
   "id": "78730afc-47d3-4982-9ceb-1ce495817510",
   "metadata": {
    "tags": []
   },
   "outputs": [
    {
     "data": {
      "text/plain": [
       "['8264973', 'R', '1', '0', '0', '0', '0', '0', '0']"
      ]
     },
     "execution_count": 111,
     "metadata": {},
     "output_type": "execute_result"
    }
   ],
   "source": [
    "data['image_name'][0].split('.')[0].split('_')"
   ]
  },
  {
   "cell_type": "code",
   "execution_count": 112,
   "id": "75f03a6a-63a2-4faf-8b70-1124d8425a3d",
   "metadata": {
    "tags": []
   },
   "outputs": [
    {
     "data": {
      "text/plain": [
       "1536"
      ]
     },
     "execution_count": 112,
     "metadata": {},
     "output_type": "execute_result"
    }
   ],
   "source": [
    "len(data['embeddings'][0])"
   ]
  },
  {
   "cell_type": "code",
   "execution_count": 113,
   "id": "d6bbb9b8-c48a-44ea-bc2b-16946e64d673",
   "metadata": {
    "tags": []
   },
   "outputs": [],
   "source": [
    "# Extract embeddings and labels\n",
    "embeddings = []\n",
    "labels = []\n",
    "\n",
    "for i,item in enumerate(data['image_name']):\n",
    "    embeddings.append(data['embeddings'][i])\n",
    "    labels.append(int(item.split('.')[0].split('_')[rf_type[rf]]))\n",
    "\n",
    "# Convert embeddings and labels to numpy arrays\n",
    "embeddings = np.array(embeddings)\n",
    "labels = np.array(labels).reshape(-1)"
   ]
  },
  {
   "cell_type": "code",
   "execution_count": 114,
   "id": "24d14416-7780-4e65-8469-c49394d60eff",
   "metadata": {
    "tags": []
   },
   "outputs": [
    {
     "name": "stdout",
     "output_type": "stream",
     "text": [
      "(429, 1536)\n",
      "(429,)\n"
     ]
    }
   ],
   "source": [
    "print(embeddings.shape)\n",
    "print(labels.shape)"
   ]
  },
  {
   "cell_type": "code",
   "execution_count": 115,
   "id": "2886d886-0917-4798-a5c6-8ac0be991b2b",
   "metadata": {
    "tags": []
   },
   "outputs": [
    {
     "name": "stdout",
     "output_type": "stream",
     "text": [
      "Average AUROC: 0.8561836927064922\n"
     ]
    }
   ],
   "source": [
    "# Initialize the SVM classifier\n",
    "clf = svm.SVC(kernel='linear', probability=True)\n",
    "\n",
    "# Define AUROC as the scoring metric\n",
    "auroc_scorer = make_scorer(roc_auc_score, needs_proba=True)\n",
    "\n",
    "# Perform 5-fold cross-validation and compute AUROC\n",
    "scores = cross_val_score(clf, embeddings, labels, cv=5, scoring=auroc_scorer)\n",
    "\n",
    "# Calculate the average AUROC\n",
    "average_auroc = np.mean(scores)\n",
    "\n",
    "print(f'Average AUROC: {average_auroc}')"
   ]
  },
  {
   "cell_type": "code",
   "execution_count": null,
   "id": "9c528feb-f6ce-4b3e-9f3f-4d5ac51f3bd3",
   "metadata": {},
   "outputs": [],
   "source": []
  }
 ],
 "metadata": {
  "kernelspec": {
   "display_name": "Python 3 (ipykernel)",
   "language": "python",
   "name": "python3"
  },
  "language_info": {
   "codemirror_mode": {
    "name": "ipython",
    "version": 3
   },
   "file_extension": ".py",
   "mimetype": "text/x-python",
   "name": "python",
   "nbconvert_exporter": "python",
   "pygments_lexer": "ipython3",
   "version": "3.11.5"
  }
 },
 "nbformat": 4,
 "nbformat_minor": 5
}
